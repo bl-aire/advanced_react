{
 "cells": [
  {
   "cell_type": "markdown",
   "id": "a3085245-db3c-4612-92fb-fc82feec4202",
   "metadata": {},
   "source": [
    "## React Context Intro\n",
    "\n",
    "Provides a way to \"teleport\" data to the components in the tree that need it without passing props.\n",
    "\n",
    "*The **< Provider/ >** doesn't necessarily have to be at the top of the entire app. It just has to be high enough to reach the components that need data(can be any data type) it holds.* \n",
    "\n",
    "***Child** components use the **useContext() hook** to grab data or values stored by the provider.*\n",
    "\n",
    "\n",
    "## createContext() and Context provider\n",
    "\n"
   ]
  },
  {
   "cell_type": "code",
   "execution_count": null,
   "id": "08d40b16-7b09-4f8e-bca8-015cdcb2fbd1",
   "metadata": {},
   "outputs": [],
   "source": [
    "App.js\n",
    "\n",
    "import React from \"react\"\n",
    "import Header from \"./Header\"\n",
    "import Button from \"./Button\"\n",
    "\n",
    "const ThemeContext = React.createContext()\n",
    "\n",
    "//outside App() cos we want to be able to export it for other components to use\n",
    "//can be done in the index.js file\n",
    "\n",
    "export default function App() {\n",
    "    return (\n",
    "        <ThemeContext.Provider value=\"light\">\n",
    "            <div className=\"container dark-theme\">\n",
    "                <Header />\n",
    "                <Button />\n",
    "            </div>\n",
    "        </ThemeContext.Provider>\n",
    "    )\n",
    "}\n",
    "\n",
    "export { ThemeContext }"
   ]
  },
  {
   "cell_type": "markdown",
   "id": "747890bd-2cef-4772-864e-2026cbaccbdd",
   "metadata": {},
   "source": [
    "## useContext()\n",
    "\n",
    "With this, children components get access to properties passed into the <ThemeContext.Provider /> ; in the case above, *value*"
   ]
  },
  {
   "cell_type": "code",
   "execution_count": null,
   "id": "2d723bc6-ed95-4e2a-ab06-464d8a0247b1",
   "metadata": {},
   "outputs": [],
   "source": [
    "import React from \"react\"\n",
    "import { ThemeContext } from \"./App\"\n",
    "\n",
    "export default function Header() {\n",
    "    const value = React.useContext(ThemeContext)\n",
    "    console.log(value)\n",
    "    return (\n",
    "        <header className={`${value}-theme`}>\n",
    "            <h1>{value} Theme</h1>\n",
    "        </header>\n",
    "    )\n",
    "}\n",
    "\n",
    "This too works for the className: className = {value + \"-theme\"}\n",
    "\n",
    "To make the first letter uppercase:\n",
    "<h1>\n",
    "    {value[0].toUpperCase() + value.slice(1)} Theme\n",
    "</h1>\n",
    "\n",
    "OR\n",
    "\n",
    "<h1>\n",
    "    {value === \"light\" ? \"Light\" : \"Dark\"} Theme\n",
    "</h1>"
   ]
  },
  {
   "cell_type": "markdown",
   "id": "2cc8d0b3-d36a-4074-bad9-3480b96965e0",
   "metadata": {},
   "source": [
    "## State + Context\n",
    "\n",
    "Both can be used together with state triggering rerender and context being responsible for passing data to children"
   ]
  },
  {
   "cell_type": "code",
   "execution_count": null,
   "id": "bd0eb426-ffa2-4f26-8d4c-4579027708b6",
   "metadata": {},
   "outputs": [],
   "source": [
    "App.js\n",
    "\n",
    "import React from \"react\"\n",
    "import Header from \"./Header\"\n",
    "import Button from \"./Button\"\n",
    "\n",
    "const ThemeContext = React.createContext()\n",
    "\n",
    "export default function App() {\n",
    "    \n",
    "    const [theme, setTheme] = React.useState(\"dark\")\n",
    "\n",
    "    function toggleTheme() {\n",
    "        setTheme(prevTheme => prevTheme === \"light\" ? \"dark\" \"light\")\n",
    "    }\n",
    "    \n",
    "    return (\n",
    "        <ThemeContext.Provider value={{theme: theme, toggleTheme: toggleTheme}}>\n",
    "            <div className=\"container dark-theme\">\n",
    "                <Header />\n",
    "                <Button />\n",
    "            </div>\n",
    "        </ThemeContext.Provider>\n",
    "    )\n",
    "}\n",
    "export { ThemeContext }"
   ]
  },
  {
   "cell_type": "markdown",
   "id": "4b13551a-9052-45d2-9ef4-eb55f8ef8cbc",
   "metadata": {},
   "source": [
    "**Passing multiple values into a context using objects:**\n",
    "value = {{theme: theme, toggleTheme: toggleTheme}}\n",
    "\n",
    "**ES6(object properties have same name as values):**\n",
    "value = {{theme, toggleTheme}}\n",
    "\n",
    "**Passing multiple values into a context using arrays:**\n",
    "value = {[ theme, toggleTheme ]}\n",
    "\n",
    "### Updated Button and Header component:"
   ]
  },
  {
   "cell_type": "code",
   "execution_count": null,
   "id": "182c2cb7-2628-48b1-9635-5344e2620387",
   "metadata": {},
   "outputs": [],
   "source": [
    "Button.js\n",
    "\n",
    "import React from \"react\"\n",
    "import {ThemeContext} from \"./App\"\n",
    "\n",
    "export default function Button() {\n",
    "    const value = React.useContext(ThemeContext)\n",
    "    \n",
    "    return (\n",
    "        <button className={`${value.theme}-theme`} onClick={value.toggleTheme}>\n",
    "            Switch Theme\n",
    "        </button>\n",
    "    )\n",
    "}\n",
    "\n",
    "\n",
    "Header.js\n",
    "\n",
    "import React from \"react\"\n",
    "import { ThemeContext } from \"./App\"\n",
    "\n",
    "export default function Header() {\n",
    "    const value = React.useContext(ThemeContext)\n",
    "    \n",
    "    return (\n",
    "        <header className={`${value.theme}-theme`}>\n",
    "            <h1>{value.theme === \"light\" ? \"Light\" : \"Dark\"} Theme</h1>\n",
    "        </header>\n",
    "    )\n",
    "}"
   ]
  },
  {
   "cell_type": "code",
   "execution_count": null,
   "id": "2599564a-9332-4207-b9a1-e09a90a9505e",
   "metadata": {},
   "outputs": [],
   "source": [
    "Sample exercise:\n",
    "    \n",
    "import React from \"react\"\n",
    "import { ThemeContext } from \"./App\"\n",
    "\n",
    "export default function Button() {\n",
    "    const { theme, toggleTheme } = React.useContext(ThemeContext)\n",
    "\n",
    "    return (\n",
    "        <button onClick={toggleTheme} className={`${theme}-theme`}>\n",
    "            Switch Theme\n",
    "        </button>\n",
    "    )\n",
    "}"
   ]
  }
 ],
 "metadata": {
  "kernelspec": {
   "display_name": "Python 3 (ipykernel)",
   "language": "python",
   "name": "python3"
  },
  "language_info": {
   "codemirror_mode": {
    "name": "ipython",
    "version": 3
   },
   "file_extension": ".py",
   "mimetype": "text/x-python",
   "name": "python",
   "nbconvert_exporter": "python",
   "pygments_lexer": "ipython3",
   "version": "3.11.0"
  }
 },
 "nbformat": 4,
 "nbformat_minor": 5
}
