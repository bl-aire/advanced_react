{
 "cells": [
  {
   "cell_type": "markdown",
   "id": "a3085245-db3c-4612-92fb-fc82feec4202",
   "metadata": {},
   "source": [
    "## React Context Intro\n",
    "\n",
    "Provides a way to \"teleport\" data to the components in the tree that need it without passing props.\n",
    "\n",
    "*The **< Provider/ >** doesn't necessarily have to be at the top of the entire app. It just has to be high enough to reach the components that need data(can be any data type) it holds.* \n",
    "\n",
    "***Child** components use the **useContext() hook** to grab data or values stored by the provider.*\n",
    "\n",
    "\n",
    "## createContext() and Context provider\n",
    "\n"
   ]
  },
  {
   "cell_type": "raw",
   "id": "b2178395-417b-4944-9ac0-1d6010473afc",
   "metadata": {},
   "source": [
    "App.js\n",
    "\n",
    "import React from \"react\"\n",
    "import Header from \"./Header\"\n",
    "import Button from \"./Button\"\n",
    "\n",
    "const ThemeContext = React.createContext()\n",
    "\n",
    "//outside App() cos we want to be able to export it for other components to use\n",
    "//can be done in the index.js file\n",
    "\n",
    "export default function App() {\n",
    "    return (\n",
    "        <ThemeContext.Provider value=\"light\">\n",
    "            <div className=\"container dark-theme\">\n",
    "                <Header />\n",
    "                <Button />\n",
    "            </div>\n",
    "        </ThemeContext.Provider>\n",
    "    )\n",
    "}\n",
    "\n",
    "export { ThemeContext }"
   ]
  },
  {
   "cell_type": "markdown",
   "id": "747890bd-2cef-4772-864e-2026cbaccbdd",
   "metadata": {},
   "source": [
    "## useContext()\n",
    "\n",
    "With this, children components get access to properties passed into the <ThemeContext.Provider /> ; in the case above, *value*"
   ]
  },
  {
   "cell_type": "raw",
   "id": "3d6c888d-c570-4e0c-ad4a-41b6a84fa8d7",
   "metadata": {},
   "source": [
    "import React from \"react\"\n",
    "import { ThemeContext } from \"./App\"\n",
    "\n",
    "export default function Header() {\n",
    "    const value = React.useContext(ThemeContext)\n",
    "    console.log(value)\n",
    "    return (\n",
    "        <header className={`${value}-theme`}>\n",
    "            <h1>{value} Theme</h1>\n",
    "        </header>\n",
    "    )\n",
    "}\n",
    "\n",
    "This too works for the className: className = {value + \"-theme\"}\n",
    "\n",
    "To make the first letter uppercase:\n",
    "<h1>\n",
    "    {value[0].toUpperCase() + value.slice(1)} Theme\n",
    "</h1>\n",
    "\n",
    "OR\n",
    "\n",
    "<h1>\n",
    "    {value === \"light\" ? \"Light\" : \"Dark\"} Theme\n",
    "</h1>"
   ]
  },
  {
   "cell_type": "markdown",
   "id": "2cc8d0b3-d36a-4074-bad9-3480b96965e0",
   "metadata": {},
   "source": [
    "## State + Context\n",
    "\n",
    "Both can be used together with state triggering rerender and context being responsible for passing data to children"
   ]
  },
  {
   "cell_type": "raw",
   "id": "32c48870-ce4a-4d27-a22e-432531fcd6ea",
   "metadata": {},
   "source": [
    "App.js\n",
    "\n",
    "import React from \"react\"\n",
    "import Header from \"./Header\"\n",
    "import Button from \"./Button\"\n",
    "\n",
    "const ThemeContext = React.createContext()\n",
    "\n",
    "export default function App() {\n",
    "    \n",
    "    const [theme, setTheme] = React.useState(\"dark\")\n",
    "\n",
    "    function toggleTheme() {\n",
    "        setTheme(prevTheme => prevTheme === \"light\" ? \"dark\" \"light\")\n",
    "    }\n",
    "    \n",
    "    return (\n",
    "        <ThemeContext.Provider value={{theme: theme, toggleTheme: toggleTheme}}>\n",
    "            <div className=\"container dark-theme\">\n",
    "                <Header />\n",
    "                <Button />\n",
    "            </div>\n",
    "        </ThemeContext.Provider>\n",
    "    )\n",
    "}\n",
    "export { ThemeContext }"
   ]
  },
  {
   "cell_type": "markdown",
   "id": "4b13551a-9052-45d2-9ef4-eb55f8ef8cbc",
   "metadata": {},
   "source": [
    "**Passing multiple values into a context using objects:**\n",
    "value = {{theme: theme, toggleTheme: toggleTheme}}\n",
    "\n",
    "**ES6(object properties have same name as values):**\n",
    "value = {{theme, toggleTheme}}\n",
    "\n",
    "**Passing multiple values into a context using arrays:**\n",
    "value = {[ theme, toggleTheme ]}\n",
    "\n",
    "### Updated Button and Header component:"
   ]
  },
  {
   "cell_type": "raw",
   "id": "ec104fe4-d2da-4fc4-9904-b3f819505e2d",
   "metadata": {},
   "source": [
    "Button.js\n",
    "\n",
    "import React from \"react\"\n",
    "import {ThemeContext} from \"./App\"\n",
    "\n",
    "export default function Button() {\n",
    "    const value = React.useContext(ThemeContext)\n",
    "    \n",
    "    return (\n",
    "        <button className={`${value.theme}-theme`} onClick={value.toggleTheme}>\n",
    "            Switch Theme\n",
    "        </button>\n",
    "    )\n",
    "}\n",
    "\n",
    "\n",
    "Header.js\n",
    "\n",
    "import React from \"react\"\n",
    "import { ThemeContext } from \"./App\"\n",
    "\n",
    "export default function Header() {\n",
    "    const value = React.useContext(ThemeContext)\n",
    "    \n",
    "    return (\n",
    "        <header className={`${value.theme}-theme`}>\n",
    "            <h1>{value.theme === \"light\" ? \"Light\" : \"Dark\"} Theme</h1>\n",
    "        </header>\n",
    "    )\n",
    "}"
   ]
  }
 ],
 "metadata": {
  "kernelspec": {
   "display_name": "Python 3 (ipykernel)",
   "language": "python",
   "name": "python3"
  },
  "language_info": {
   "codemirror_mode": {
    "name": "ipython",
    "version": 3
   },
   "file_extension": ".py",
   "mimetype": "text/x-python",
   "name": "python",
   "nbconvert_exporter": "python",
   "pygments_lexer": "ipython3",
   "version": "3.10.10"
  }
 },
 "nbformat": 4,
 "nbformat_minor": 5
}
