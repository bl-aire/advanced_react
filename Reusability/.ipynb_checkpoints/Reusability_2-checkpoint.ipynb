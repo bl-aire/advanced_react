{
 "cells": [
  {
   "cell_type": "markdown",
   "id": "a3085245-db3c-4612-92fb-fc82feec4202",
   "metadata": {},
   "source": [
    "## React Context Intro\n",
    "\n",
    "Provides a way to \"teleport\" data to the components in the tree that need it without passing props.\n",
    "\n",
    "*The <Provider/> doesn't necessarily have to be at the top of the entire app. It just has to be high enough to reach the components that need data(can be any data type) it holds.* \n",
    "\n",
    "*Child components use the useContext hook() to grab data or values stored by the provider.*\n",
    "\n",
    "\n",
    "## createContext() and Context provider\n",
    "\n"
   ]
  },
  {
   "cell_type": "raw",
   "id": "b2178395-417b-4944-9ac0-1d6010473afc",
   "metadata": {},
   "source": [
    "App.js\n",
    "\n",
    "import React from \"react\"\n",
    "import Header from \"./Header\"\n",
    "import Button from \"./Button\"\n",
    "\n",
    "const ThemeContext = React.createContext()\n",
    "\n",
    "//outside App() cos we want to be able to export it for other components to use\n",
    "//can be done in the index.js file\n",
    "\n",
    "export default function App() {\n",
    "    return (\n",
    "        <ThemeContext.Provider value=\"light\">\n",
    "            <div className=\"container dark-theme\">\n",
    "                <Header />\n",
    "                <Button />\n",
    "            </div>\n",
    "        </ThemeContext.Provider>\n",
    "    )\n",
    "}\n",
    "\n",
    "export { ThemeContext }"
   ]
  }
 ],
 "metadata": {
  "kernelspec": {
   "display_name": "Python 3 (ipykernel)",
   "language": "python",
   "name": "python3"
  },
  "language_info": {
   "codemirror_mode": {
    "name": "ipython",
    "version": 3
   },
   "file_extension": ".py",
   "mimetype": "text/x-python",
   "name": "python",
   "nbconvert_exporter": "python",
   "pygments_lexer": "ipython3",
   "version": "3.10.10"
  }
 },
 "nbformat": 4,
 "nbformat_minor": 5
}
