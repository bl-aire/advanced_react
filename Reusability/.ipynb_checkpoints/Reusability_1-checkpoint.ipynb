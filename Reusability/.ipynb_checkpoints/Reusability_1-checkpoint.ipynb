{
 "cells": [
  {
   "cell_type": "markdown",
   "id": "b075d001-eb8f-4f4a-80e1-1acaf4f484eb",
   "metadata": {},
   "source": [
    "## Props review challenge"
   ]
  },
  {
   "cell_type": "code",
   "execution_count": null,
   "id": "32cce424-acc5-44e6-bfe2-44df1f1faab6",
   "metadata": {},
   "outputs": [],
   "source": [
    "function App() {\n",
    "  return (\n",
    "    <main>\n",
    "      <Button\n",
    "        text=\"NEW TEXT\"\n",
    "      />\n",
    "    </main>\n",
    "  )\n",
    "}\n",
    "\n",
    "export default function Button(props) {\n",
    "  return (\n",
    "    <main>\n",
    "      <button>{props.text}</button>\n",
    "    </main>\n",
    "  )\n",
    "}"
   ]
  },
  {
   "cell_type": "markdown",
   "id": "7566d655-c472-4bb8-8cd3-7ad1c7ed6b96",
   "metadata": {},
   "source": [
    "## Children\n",
    "\n",
    "### - in HTML\n",
    "\n",
    "Parent and child relationships exist with HTML elements. E.g ul and li. \n",
    "\n",
    "### - in React\n",
    "\n",
    "We are able to use an opening and a closing tag for our custom component. And Whatever text is between(instead of using attributes to declare values) then is rendered using {props.children}"
   ]
  },
  {
   "cell_type": "code",
   "execution_count": null,
   "id": "90239b89-a939-4544-a5dd-909d1dcd04c3",
   "metadata": {},
   "outputs": [],
   "source": [
    "function App() {\n",
    "  return (\n",
    "    <main>\n",
    "      <Marquee>🧛‍♀️ Welcome to Horrorville 🧛‍♀️</Marquee>\n",
    "    </main>\n",
    "  )\n",
    "}\n",
    "\n",
    "export default function Marquee(props) {\n",
    "    return (\n",
    "        <div className=\"marquee\">\n",
    "            <h1>{props.children}</h1>\n",
    "        </div>\n",
    "    )\n",
    "}"
   ]
  },
  {
   "cell_type": "markdown",
   "id": "37e9e181-2162-4634-83c2-7fe030bcfc12",
   "metadata": {},
   "source": [
    "### More on React children\n",
    "\n",
    "- Check out this <a href=\"https://react-icons.github.io/react-icons/\">React icon library</a>\n",
    "- Icons are svg's and can get targeted + styled via: **parentElement > svg**\n",
    "- React gives you the opportunity to nest components opening up a world of opportunities"
   ]
  },
  {
   "cell_type": "markdown",
   "id": "c472711b-1594-4782-820e-13003cd12656",
   "metadata": {},
   "source": [
    "## Props spreading\n",
    "\n",
    "Instead of enumerating each one of these props as is seen below, you can use the spead syntax and be able to use attributes of the element(button in this case) where the component(Button) is used directly:"
   ]
  },
  {
   "cell_type": "code",
   "execution_count": null,
   "id": "2bd8c84b-ec3a-4fdb-8ac8-5151dfc0aa5f",
   "metadata": {},
   "outputs": [],
   "source": [
    "export default function Button(props) {\n",
    "    return (\n",
    "        <button \n",
    "            onClick={props.onClick}\n",
    "            onDoubleClick={props.onDoubleClick}\n",
    "            style={props.style}\n",
    "            className={props.className}\n",
    "            onMouseEnter={props.onMouseEnter}\n",
    "            onMouseLeave={props.onMouseLeave}\n",
    "        >\n",
    "            {/*... etc. ...*/}\n",
    "            {props.children}\n",
    "        </button>\n",
    "    )\n",
    "}\n",
    "\n",
    "\n",
    "export default function Button(props) {\n",
    "    return (\n",
    "        <button {...props}>\n",
    "            {props.children}\n",
    "        </button>\n",
    "    )\n",
    "}"
   ]
  },
  {
   "cell_type": "markdown",
   "id": "2d770424-5bcd-4bf4-84b5-b4fbda04914f",
   "metadata": {},
   "source": [
    "## Destructuring props"
   ]
  },
  {
   "cell_type": "code",
   "execution_count": null,
   "id": "35f4400a-8238-48f2-b3f7-bcdf45157051",
   "metadata": {},
   "outputs": [],
   "source": [
    "function App() {\n",
    "  return (\n",
    "    <main>\n",
    "      <Button variant style={{color: \"green\"}} onClick={() => console.log(\"Logging in...\")}>\n",
    "        <FcGoogle />\n",
    "        Log in with Google\n",
    "      </Button>\n",
    "    </main>\n",
    "  )\n",
    "}\n",
    "\n",
    "export default function Button({children, variant, ...rest}) {\n",
    "    console.log(rest)\n",
    "    return (\n",
    "        <button>\n",
    "            {children}\n",
    "        </button>\n",
    "    )\n",
    "}\n",
    "\n",
    "- rest can be any name\n",
    "- rest won't contain children and variant cos those are already pulled out\n",
    "- variant will be true because a value was not set for it"
   ]
  },
  {
   "cell_type": "markdown",
   "id": "4be41aab-94a6-4b50-8d20-aff9d94b3e3f",
   "metadata": {},
   "source": [
    "## Button challenge"
   ]
  },
  {
   "cell_type": "code",
   "execution_count": null,
   "id": "8aedfa74-56ca-4294-a7a3-17d3ea365885",
   "metadata": {},
   "outputs": [],
   "source": [
    "export default function Button({children, size, ...rest}) {\n",
    "    let sizeClass\n",
    "    if (size === \"sm\") sizeClass = \"button-small\"\n",
    "    if (size === \"lg\") sizeClass = \"button-large\"\n",
    "    \n",
    "    return (\n",
    "        <button  className={sizeClass} {...rest}>\n",
    "            {children}\n",
    "        </button>\n",
    "    )\n",
    "}\n",
    "\n",
    "function App() {\n",
    "  return (\n",
    "    <main>\n",
    "      <Button size=\"lg\">Log in with Google</Button>\n",
    "    </main>\n",
    "  )\n",
    "}"
   ]
  },
  {
   "cell_type": "markdown",
   "id": "2e664d7b-5796-4f15-b171-34547a2a4186",
   "metadata": {},
   "source": [
    "## Fix className\n",
    "\n",
    "When \"className={sizeClass}\" above is placed with \"className=\"green\", only one of their style gets implemented.\n",
    "\n",
    "- When the former comes first, the style of className=\"green\" is implemented and vice versa\n",
    "\n",
    "- To fix it we could pull out className and use regular JS as seen below or use these packages **classnames or clsx**(more professional). They are JS utility for conditionally joining classnames."
   ]
  },
  {
   "cell_type": "code",
   "execution_count": null,
   "id": "24ab1278-0496-4481-bbdd-31e00fa8f0a3",
   "metadata": {},
   "outputs": [],
   "source": [
    "export default function Button({children, className, size, ...rest}) {\n",
    "    let sizeClass\n",
    "    if (size === \"sm\") sizeClass = \"button-sm\"\n",
    "    if (size === \"lg\") sizeClass = \"button-lg\"\n",
    "    \n",
    "    return (\n",
    "        <button className={sizeClass + \" \" + className} {...rest}>\n",
    "            {children}\n",
    "        </button>\n",
    "    )\n",
    "}\n",
    "\n",
    "\n",
    "****\n",
    "    let sizeClass = size ? `button-${size}` : \"\"\n",
    "****\n",
    "    let sizeClass = size && `button-${size}`\n",
    "****\n",
    "\n",
    "or:\n",
    "\n",
    "    return (\n",
    "        <button className={`${sizeClass} ${className}`} {...rest}>\n",
    "            {children}\n",
    "        </button>\n",
    "    )"
   ]
  },
  {
   "cell_type": "markdown",
   "id": "875cf8fe-82f7-4a6f-9517-3508b4193070",
   "metadata": {},
   "source": [
    "**classnames**:"
   ]
  },
  {
   "cell_type": "code",
   "execution_count": null,
   "id": "91364743-e99a-44c4-994e-6e1c699f094f",
   "metadata": {},
   "outputs": [],
   "source": [
    "import classnames from \"classnames\"\n",
    "\n",
    "const allClasses = classnames(sizeClass, className)\n",
    "\n",
    "console.log(allClasses)\n",
    "\n",
    "<button className={allClasses}>\n",
    "    HELLO\n",
    "</button>\n",
    "\n"
   ]
  },
  {
   "cell_type": "markdown",
   "id": "484a89da-8889-487d-b3a0-1f4bad9650ef",
   "metadata": {},
   "source": [
    "## Mega Challenge (Create a variety of avatars)\n",
    "\n",
    "**My solution:**\n",
    "\n",
    "<img src=\"../assets/app.png\">\n",
    "\n",
    "\n",
    "<img src=\"../assets/avatar.png\">\n",
    "\n",
    "\n",
    "**My Alternative solution:**"
   ]
  },
  {
   "cell_type": "code",
   "execution_count": null,
   "id": "a6b56002-f0a0-49a0-9255-5996323ab7e1",
   "metadata": {},
   "outputs": [],
   "source": [
    "export default function Avatar(props) {\n",
    "    let className\n",
    "    let element\n",
    "    if(props.src){\n",
    "        element = <img src={props.src}/>\n",
    "        className = \"avatar\"\n",
    "    } else if(props.children){\n",
    "        element = props.children\n",
    "        className =\"avatar avatar-letters\"\n",
    "    } else {\n",
    "        element = <IoPersonSharp/>\n",
    "        className =\"avatar avatar-icon\"\n",
    "    }\n",
    "    return (\n",
    "        <div className={className}>\n",
    "            {element}\n",
    "        </div>\n",
    "    )\n",
    "}"
   ]
  },
  {
   "cell_type": "markdown",
   "id": "520380be-cc2f-4051-a345-b9889d014983",
   "metadata": {},
   "source": [
    "**Alternative solution from tutor:**"
   ]
  },
  {
   "cell_type": "code",
   "execution_count": null,
   "id": "63001826-b287-491f-adc0-21a298928c63",
   "metadata": {},
   "outputs": [],
   "source": [
    "export default function Avatar({src, alt, children}) {\n",
    "    if (src) {\n",
    "        return (\n",
    "            <div className=\"avatar\">\n",
    "                <img src={src} alt={alt}/>\n",
    "            </div>\n",
    "        )\n",
    "    }\n",
    "    if (children) {\n",
    "        return (\n",
    "            <div className=\"avatar avatar-letters\">\n",
    "                {children}\n",
    "            </div>\n",
    "        )\n",
    "    }\n",
    "    else {\n",
    "        return (\n",
    "            <div className=\"avatar avatar-icon\">\n",
    "                <IoPersonSharp />\n",
    "            </div>\n",
    "        )\n",
    "    }\n",
    "}"
   ]
  },
  {
   "cell_type": "markdown",
   "id": "a12a374a-6e9b-4d2b-94ab-d168165d56b0",
   "metadata": {},
   "source": [
    "## Menu component\n",
    "\n",
    "Basically:\n",
    "\n",
    "- State is set to closed.\n",
    "- Clicking the menu button toggles the state.\n",
    "- The state is used to conditionally render a **dropdown menu component** \n",
    "(a component who's items are displayed by iterating through an array of items provided as a prop from the menu component in app.js)\n",
    "\n",
    "The first three points occur in the **menu component**\n",
    "\n",
    "**menu button component** when clicked conditionally renders the dropdown menu component\n",
    "\n",
    "**PROBLEMS:**\n",
    "\n",
    "**COMPLEX, OPAQUE, NOT DRY, PROP DRILLING**\n"
   ]
  },
  {
   "cell_type": "markdown",
   "id": "cc9d42cb-c2c7-4dd1-88c9-21f0df1681ca",
   "metadata": {},
   "source": [
    "## Prop drilling\n",
    "\n",
    "Happens when a component down the component tree needs access to data in  a grandparent(or higher) component, and the data is manually passed down to each child component THROUGH PROPS till it finally reaches thhe component that needs it.\n",
    "\n",
    "As a result of this, components that do not need the data will have them passed down through 'em to reach a child component. A couple of solutions to prop drilling include:\n",
    "\n",
    "- Do **nothing**! (if the project isn't so large) <a href=\"https://kentcdodds.com/blog/aha-programming\" target=\"_blank\">Avoid hasty abstractions</a>\n",
    "- use **Compound components** (\"flattens\" the structure)\n",
    "- use the **Context api** (access state directly from the components that need it)"
   ]
  },
  {
   "cell_type": "markdown",
   "id": "e4c9406f-79d8-407c-956b-9e28bb44ad9a",
   "metadata": {},
   "source": [
    "## Compound components\n",
    "\n",
    "### Html:"
   ]
  },
  {
   "cell_type": "raw",
   "id": "516de048-672d-4bd3-9c42-51bd823e3518",
   "metadata": {},
   "source": [
    "Can be seen in HTML's: \n",
    "\n",
    "- <form> and <input>. Having the later in the former allows the form to maintain some state gives about the data being inputed in the form. If the <input> element was outside, we'd have to assign it an id to get its data/value for each *individual* input.\n",
    "\n",
    "- <button> acting as a submit button automatically if its in a <form>\n",
    "\n",
    "- <ul> and <li> *check out the difference between wrapping li's in a ul tag and not wrapping them*\n",
    "**Parent components produce additional styling or functionality(atimes both) for their children**\n",
    "\n",
    "- <table></table>, <thead></thead>, <tbody></tbody>, <td></td> etc\n"
   ]
  },
  {
   "cell_type": "markdown",
   "id": "d45583c7-c2ce-4314-8267-f868560e858e",
   "metadata": {},
   "source": [
    "### React:\n",
    "\n",
    "- Use children props\n",
    "- Have dedicated function/styling\n",
    "- Make the component structure more transparent\n",
    "- Give more control to the user(developer) of the component\n",
    "\n",
    "  **Challenge:**\n",
    "\n",
    "<img src=\"../Assets/Compound_comp1.png\">\n",
    "\n",
    "<img src=\"../Assets/Compound_comp2.png\">"
   ]
  },
  {
   "cell_type": "markdown",
   "id": "101fc70f-d63c-45ef-b2de-925489233e63",
   "metadata": {},
   "source": [
    "## Implicit state\n",
    "\n",
    "The solution above broke our code. The toggle button isn't working as currently state is declared and the toggle function is set in the Menu component. We will attempt fixing it via:\n",
    "\n",
    "- React.Children api\n",
    "- Context\n",
    "\n",
    "### React.Children\n",
    "\n",
    "An API provided by React that provides methods for interacting with a component's direct children elements.\n",
    "\n",
    "**Children** lets you manipulate and transform the JSX you received as the **children prop**\n",
    "\n",
    "**References:**\n",
    "\n",
    "- React.Children.map(children, fn, thisArg?) \n",
    "- React.Children.forEach(children, fn, thisArg?)\n",
    "- Children.count(children)\n",
    "- Children.only(children)\n",
    "- Children.toArray(children)\n",
    "\n",
    "**Usage:**\n",
    "\n",
    "- Transforming children\n",
    "- Running some code for each child\n",
    "- Counting children\n",
    "- Converting children to an array\n",
    "- <a href=\"https://react.dev/reference/react/Children\">Futher study...</a>\n",
    "\n",
    "**Alternatives:**\n",
    "\n",
    "- Exposing multiple components\n",
    "- Accepting an array of objects as a prop\n",
    "- Calling a render prop to customize rendering\n",
    "- <a href=\"https://react.dev/reference/react/Children\">Futher study...</a>\n",
    "\n",
    "\n",
    "#### CHILDREN.COUNT(CHILDREN)\n",
    "\n",
    "This is used to count the nummber of children in the children data structure.\n",
    "\n",
    "It returns the number of nodes(empty nodes-null, undefined, booleans..strings..numbers..react elements) inside these children\n",
    "\n"
   ]
  },
  {
   "cell_type": "code",
   "execution_count": null,
   "id": "ddb270fb-bcb1-4372-b8a4-263a83eeb8cf",
   "metadata": {},
   "outputs": [],
   "source": [
    "\n",
    "import { Children } from 'react';\n",
    "//if not imported, use React.Children//\n",
    "\n",
    "function RowList({ children }) {\n",
    "  return (\n",
    "    <>\n",
    "      <h1>Total rows: {Children.count(children)}</h1>\n",
    "      ...\n",
    "    </>\n",
    "  );\n",
    "}"
   ]
  },
  {
   "cell_type": "markdown",
   "id": "eeac473e-1def-41d7-95b0-a000abf651ad",
   "metadata": {},
   "source": [
    "#### CHILDREN.FOREACH(CHILDREN, FN, THISARG?)\n",
    "\n",
    "This runs some code for each child in the children data structure.\n",
    "\n",
    "It returns undefined\n",
    "\n",
    "• fn: The function you want to run for each child, similar to the array forEach method callback\n",
    "• optional thisArg: The this value with which the fn function should be called. If omitted, it’s undefined.\n",
    "\n"
   ]
  },
  {
   "cell_type": "code",
   "execution_count": null,
   "id": "d8858e40-cd55-4ec9-9bb4-9c6a88132798",
   "metadata": {},
   "outputs": [],
   "source": [
    "\n",
    "import { Children } from 'react';\n",
    "\n",
    "function SeparatorList({ children }) {\n",
    "  const result = [];\n",
    "  Children.forEach(children, (child, index) => {\n",
    "    result.push(child);\n",
    "    result.push(<hr key={index} />);\n",
    "  });\n",
    "  // ..."
   ]
  },
  {
   "cell_type": "markdown",
   "id": "6d3ff342-d1ef-4fd0-9686-1c9f7c2b5ae9",
   "metadata": {},
   "source": [
    "#### CHILDREN.MAP(CHILDREN, FN, THISARG?)\n",
    "\n",
    "This maps or transforms each child in the children data structure.\n",
    "\n",
    "If children is null or undefined, returns the same value.\n",
    "Otherwise, returns a flat array consisting of the nodes you’ve returned from the fn function. The returned array will contain all nodes you returned except for null and undefined.\n",
    "\n"
   ]
  },
  {
   "cell_type": "code",
   "execution_count": null,
   "id": "a3d85d7b-225c-4557-80f7-8f094189da31",
   "metadata": {},
   "outputs": [],
   "source": [
    "import { Children } from 'react';\n",
    "\n",
    "function RowList({ children }) {\n",
    "  return (\n",
    "    <div className=\"RowList\">\n",
    "      {Children.map(children, child =>\n",
    "        <div className=\"Row\">\n",
    "          {child}\n",
    "        </div>\n",
    "      )}\n",
    "    </div>\n",
    "  );\n",
    "}\n"
   ]
  },
  {
   "cell_type": "markdown",
   "id": "e27ad3f6-8ed6-4dae-aff8-dd2e5db4e5fc",
   "metadata": {},
   "source": [
    "#### CHILDREN.ONLY(CHILDREN)\n",
    "\n",
    "This is used to assert that children represents a single React element.\n",
    "\n",
    "If children is a valid element, returns that element.\n",
    "Otherwise, throws an error.\n",
    "It always throws if you pass an array (such as the return value of Children.map) as children. In other words, it enforces that children is a single React element, not that it’s an array with a single element."
   ]
  },
  {
   "cell_type": "code",
   "execution_count": null,
   "id": "56de01b3-fac7-4f48-a470-4521b02eb6c1",
   "metadata": {},
   "outputs": [],
   "source": [
    "function Box({ children }) {\n",
    "  const element = Children.only(children);\n",
    "  // ..."
   ]
  },
  {
   "cell_type": "markdown",
   "id": "8e05b65e-58fa-4530-a301-9eb7727031ed",
   "metadata": {},
   "source": [
    "#### CHILDREN.TOARRAY(CHILDREN)\n",
    "\n",
    "This creates an array out of the children data structure.\n",
    "\n",
    "Returns a flat array of elements in children"
   ]
  },
  {
   "cell_type": "code",
   "execution_count": null,
   "id": "51ae57f0-4da9-4259-a07a-617041731837",
   "metadata": {},
   "outputs": [],
   "source": [
    "import { Children } from 'react';\n",
    "\n",
    "export default function ReversedList({ children }) {\n",
    "  const result = Children.toArray(children);\n",
    "  result.reverse();\n",
    "  // ..."
   ]
  },
  {
   "cell_type": "raw",
   "id": "2802ab10-0a80-4940-a3bf-3854c1b4f640",
   "metadata": {},
   "source": [
    "We will be using React.cloneElement(); utility that duplicates a react element and provides a way to inject additional props to that element and React.Children.map()\n",
    "*Using both provides a way to augment the original children with new props*"
   ]
  },
  {
   "cell_type": "code",
   "execution_count": null,
   "id": "b47f610e-d0c5-416c-bcab-7d72e5f79551",
   "metadata": {},
   "outputs": [],
   "source": [
    "MenuDropdown.js\n",
    "\n",
    "import React from \"react\"\n",
    "\n",
    "export default function MenuDropdown({ children, open }) {\n",
    "    return open ? (\n",
    "        <div className=\"menu-dropdown\">\n",
    "            {children}\n",
    "        </div>\n",
    "    ) : null\n",
    "}\n",
    "\n",
    "\n",
    "MenuButton.js\n",
    "\n",
    "import React from \"react\"\n",
    "import Button from \"../Button/Button\"\n",
    "\n",
    "export default function MenuButton({ children, toggle }) {\n",
    "    return (\n",
    "        <Button onClick={toggle}>{children}</Button>\n",
    "    )\n",
    "}\n",
    "\n",
    "\n",
    "Menu.js\n",
    "\n",
    "import React from \"react\"\n",
    "import MenuButton from \"./MenuButton\"\n",
    "import MenuDropdown from \"./MenuDropdown\"\n",
    "\n",
    "export default function Menu({ children }) {\n",
    "    const [open, setOpen] = React.useState(true)\n",
    "\n",
    "    function toggle() {\n",
    "        setOpen(prevOpen => !prevOpen)\n",
    "    }\n",
    "    \n",
    "    return (\n",
    "        <div className=\"menu\">\n",
    "            {React.Children.map(children, (child) => {\n",
    "                return React.cloneElement(child, {\n",
    "                    open,\n",
    "                    toggle   /......can be renamed:xyz both var names are diff/\n",
    "                })\n",
    "            })}\n",
    "        </div>\n",
    "    )\n",
    "}\n"
   ]
  },
  {
   "cell_type": "markdown",
   "id": "22fbdae8-cf5f-40f4-b9cb-1531b13180aa",
   "metadata": {},
   "source": [
    "## Shortcomings of React.Children\n",
    "\n",
    "It is:\n",
    "- Fragile/delicate\n",
    "- Limited in depth"
   ]
  }
 ],
 "metadata": {
  "kernelspec": {
   "display_name": "Python 3 (ipykernel)",
   "language": "python",
   "name": "python3"
  },
  "language_info": {
   "codemirror_mode": {
    "name": "ipython",
    "version": 3
   },
   "file_extension": ".py",
   "mimetype": "text/x-python",
   "name": "python",
   "nbconvert_exporter": "python",
   "pygments_lexer": "ipython3",
   "version": "3.11.0"
  }
 },
 "nbformat": 4,
 "nbformat_minor": 5
}
