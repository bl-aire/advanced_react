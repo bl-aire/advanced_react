{
 "cells": [
  {
   "cell_type": "markdown",
   "id": "7036717b-3f39-4199-84cf-b73819526923",
   "metadata": {},
   "source": [
    "## React Router 6\n",
    "\n",
    "A React library used to enable client-side routing.\n",
    "\n",
    "What we will learn:\n",
    "\n",
    "- Routing basics\n",
    "- Navigation\n",
    "- Layout and Index Routes\n",
    "- Nested Routes\n",
    "- Route ans Search Parameters\n",
    "- Protected Routes\n",
    "- e.t.c\n",
    "\n",
    "What we will build:\n",
    "\n",
    "- SPA with 10+ routes\n",
    "- Filter by van type\n",
    "- Active nav link styling\n",
    "- Protected Routes\n",
    "- Nested routes\n",
    "- Using a real database(Firebase)\n",
    "- Deployed\n",
    "\n",
    "## MPA vs SPA\n",
    "\n",
    "SPA: browser(client) loads a single web document once then the app makes incremental update to the document through methods like fetch requests.\n",
    "Request is made, server sends a html page/doc that is displayed.\n",
    "\n",
    "MPA: browser makes a request for every page it intends loading/displaying.\n",
    "After request is made, the server sends a react app thats loaded to the browser, and when new requests(e.g loading another page) are made, *portions* of the page are loaded in the browser without any new request being made to the server.\n",
    "\n",
    "## Setup and Browser"
   ]
  }
 ],
 "metadata": {
  "kernelspec": {
   "display_name": "Python 3 (ipykernel)",
   "language": "python",
   "name": "python3"
  },
  "language_info": {
   "codemirror_mode": {
    "name": "ipython",
    "version": 3
   },
   "file_extension": ".py",
   "mimetype": "text/x-python",
   "name": "python",
   "nbconvert_exporter": "python",
   "pygments_lexer": "ipython3",
   "version": "3.11.0"
  }
 },
 "nbformat": 4,
 "nbformat_minor": 5
}
