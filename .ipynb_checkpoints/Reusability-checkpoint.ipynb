{
 "cells": [
  {
   "cell_type": "markdown",
   "id": "b075d001-eb8f-4f4a-80e1-1acaf4f484eb",
   "metadata": {},
   "source": [
    "## Props review challenge"
   ]
  },
  {
   "cell_type": "raw",
   "id": "8c5a76df-8525-42df-8146-dbfa6864083a",
   "metadata": {},
   "source": [
    "function App() {\n",
    "  return (\n",
    "    <main>\n",
    "      <Button\n",
    "        text=\"NEW TEXT\"\n",
    "      />\n",
    "    </main>\n",
    "  )\n",
    "}\n",
    "\n",
    "export default function Button(props) {\n",
    "  return (\n",
    "    <main>\n",
    "      <button>{props.text}</button>\n",
    "    </main>\n",
    "  )\n",
    "}"
   ]
  },
  {
   "cell_type": "markdown",
   "id": "7566d655-c472-4bb8-8cd3-7ad1c7ed6b96",
   "metadata": {},
   "source": [
    "## Children\n",
    "\n",
    "### - in HTML\n",
    "\n",
    "Parent and child relationships exist with HTML elements. E.g ul and li. \n",
    "\n",
    "### - in React\n",
    "\n",
    "We are able to use an opening and a closing tag for our custom component. And Whatever text is between(instead of using attributes to declare values) then is rendered using {props.children}"
   ]
  },
  {
   "cell_type": "raw",
   "id": "e9b1c698-7a63-4b4c-a0bd-edead05879b5",
   "metadata": {},
   "source": [
    "function App() {\n",
    "  return (\n",
    "    <main>\n",
    "      <Marquee>🧛‍♀️ Welcome to Horrorville 🧛‍♀️</Marquee>\n",
    "    </main>\n",
    "  )\n",
    "}\n",
    "\n",
    "export default function Marquee(props) {\n",
    "    return (\n",
    "        <div className=\"marquee\">\n",
    "            <h1>{props.children}</h1>\n",
    "        </div>\n",
    "    )\n",
    "}"
   ]
  },
  {
   "cell_type": "markdown",
   "id": "37e9e181-2162-4634-83c2-7fe030bcfc12",
   "metadata": {},
   "source": [
    "### More on React children\n",
    "\n",
    "- Check out this <a href=\"https://react-icons.github.io/react-icons/\">React icon library</a>\n",
    "- Icons are svg's and can get targeted + styled via: **parentElement > svg**\n",
    "- React gives you the opportunity to nest components opening up a world of opportunities"
   ]
  },
  {
   "cell_type": "markdown",
   "id": "c472711b-1594-4782-820e-13003cd12656",
   "metadata": {},
   "source": [
    "## Props spreading\n",
    "\n",
    "Instead of enumerating each one of these props as is seen below, you can use the spead syntax and be able to use attributes of the element(button in this case) where the component(Button) is used directly:"
   ]
  },
  {
   "cell_type": "raw",
   "id": "2157f2e2-5361-47e4-8ebd-8027b1371e12",
   "metadata": {},
   "source": [
    "export default function Button(props) {\n",
    "    return (\n",
    "        <button \n",
    "            onClick={props.onClick}\n",
    "            onDoubleClick={props.onDoubleClick}\n",
    "            style={props.style}\n",
    "            className={props.className}\n",
    "            onMouseEnter={props.onMouseEnter}\n",
    "            onMouseLeave={props.onMouseLeave}\n",
    "        >\n",
    "            {/*... etc. ...*/}\n",
    "            {props.children}\n",
    "        </button>\n",
    "    )\n",
    "}\n",
    "\n",
    "\n",
    "export default function Button(props) {\n",
    "    return (\n",
    "        <button {...props}>\n",
    "            {props.children}\n",
    "        </button>\n",
    "    )\n",
    "}"
   ]
  },
  {
   "cell_type": "markdown",
   "id": "2d770424-5bcd-4bf4-84b5-b4fbda04914f",
   "metadata": {},
   "source": [
    "## Destructuring props"
   ]
  },
  {
   "cell_type": "raw",
   "id": "0b4d1cc4-e228-4e51-93c6-3218e9e68bfc",
   "metadata": {},
   "source": [
    "function App() {\n",
    "  return (\n",
    "    <main>\n",
    "      <Button variant style={{color: \"green\"}} onClick={() => console.log(\"Logging in...\")}>\n",
    "        <FcGoogle />\n",
    "        Log in with Google\n",
    "      </Button>\n",
    "    </main>\n",
    "  )\n",
    "}\n",
    "\n",
    "export default function Button({children, variant, ...rest}) {\n",
    "    console.log(rest)\n",
    "    return (\n",
    "        <button>\n",
    "            {children}\n",
    "        </button>\n",
    "    )\n",
    "}\n",
    "\n",
    "- rest can be any name\n",
    "- rest won't contain children and variant cos those are already pulled out\n",
    "- variant will be true because a value was not set for it"
   ]
  },
  {
   "cell_type": "markdown",
   "id": "4be41aab-94a6-4b50-8d20-aff9d94b3e3f",
   "metadata": {},
   "source": [
    "## Button challenge"
   ]
  },
  {
   "cell_type": "raw",
   "id": "daaccebc-76ee-4ed6-86a9-23e0390b0c3b",
   "metadata": {},
   "source": [
    "export default function Button({children, size, ...rest}) {\n",
    "    let sizeClass\n",
    "    if (size === \"sm\") sizeClass = \"button-small\"\n",
    "    if (size === \"lg\") sizeClass = \"button-large\"\n",
    "    \n",
    "    return (\n",
    "        <button  className={sizeClass} {...rest}>\n",
    "            {children}\n",
    "        </button>\n",
    "    )\n",
    "}\n",
    "\n",
    "function App() {\n",
    "  return (\n",
    "    <main>\n",
    "      <Button size=\"lg\">Log in with Google</Button>\n",
    "    </main>\n",
    "  )\n",
    "}"
   ]
  },
  {
   "cell_type": "markdown",
   "id": "2e664d7b-5796-4f15-b171-34547a2a4186",
   "metadata": {},
   "source": [
    "## Fix className\n",
    "\n",
    "When \"className={sizeClass}\" above is placed with \"className=\"green\", only one of their style gets implemented.\n",
    "\n",
    "- When the former comes first, the style of className=\"green\" is implemented and vice versa\n",
    "\n",
    "- To fix it we could pull out className and use regular JS as seen below or use these packages **classnames or clsx**(more professional). They are JS utility for conditionally joining classnames."
   ]
  },
  {
   "cell_type": "raw",
   "id": "2aa550be-603a-4345-8486-004cd27f1b2f",
   "metadata": {},
   "source": [
    "export default function Button({children, className, size, ...rest}) {\n",
    "    let sizeClass\n",
    "    if (size === \"sm\") sizeClass = \"button-sm\"\n",
    "    if (size === \"lg\") sizeClass = \"button-lg\"\n",
    "    \n",
    "    return (\n",
    "        <button className={sizeClass + \" \" + className} {...rest}>\n",
    "            {children}\n",
    "        </button>\n",
    "    )\n",
    "}\n",
    "\n",
    "\n",
    "****\n",
    "    let sizeClass = size ? `button-${size}` : \"\"\n",
    "****\n",
    "    let sizeClass = size && `button-${size}`\n",
    "****\n",
    "\n",
    "or:\n",
    "\n",
    "    return (\n",
    "        <button className={`${sizeClass} ${className}`} {...rest}>\n",
    "            {children}\n",
    "        </button>\n",
    "    )"
   ]
  },
  {
   "cell_type": "markdown",
   "id": "875cf8fe-82f7-4a6f-9517-3508b4193070",
   "metadata": {},
   "source": [
    "**classnames**:"
   ]
  },
  {
   "cell_type": "raw",
   "id": "18600288-0867-47ed-917d-762f90c03cb4",
   "metadata": {},
   "source": [
    "import classnames from \"classnames\"\n",
    "\n",
    "const allClasses = classnames(sizeClass, className)\n",
    "\n",
    "console.log(allClasses)\n",
    "\n",
    "<button className={allClasses}>\n",
    "    HELLO\n",
    "</button>\n",
    "\n"
   ]
  },
  {
   "cell_type": "markdown",
   "id": "484a89da-8889-487d-b3a0-1f4bad9650ef",
   "metadata": {},
   "source": [
    "## Mega Challenge (Create a variety of avatars)\n",
    "\n",
    "**My solution:**\n",
    "\n",
    "<img src=\"./assets/app.png\">\n",
    "\n",
    "\n",
    "<img src=\"./assets/avatar.png\">\n",
    "\n",
    "\n",
    "**Alternative solution:**"
   ]
  },
  {
   "cell_type": "raw",
   "id": "e2932904-6378-42d5-b18d-e5c2f13dc1af",
   "metadata": {},
   "source": [
    "export default function Avatar({src, alt, children}) {\n",
    "    if (src) {\n",
    "        return (\n",
    "            <div className=\"avatar\">\n",
    "                <img src={src} alt={alt}/>\n",
    "            </div>\n",
    "        )\n",
    "    }\n",
    "    if (children) {\n",
    "        return (\n",
    "            <div className=\"avatar avatar-letters\">\n",
    "                {children}\n",
    "            </div>\n",
    "        )\n",
    "    }\n",
    "    else {\n",
    "        return (\n",
    "            <div className=\"avatar avatar-icon\">\n",
    "                <IoPersonSharp />\n",
    "            </div>\n",
    "        )\n",
    "    }\n",
    "}"
   ]
  },
  {
   "cell_type": "code",
   "execution_count": null,
   "id": "9266b1a3-f3fa-429c-8725-4c96c3157ce3",
   "metadata": {},
   "outputs": [],
   "source": []
  }
 ],
 "metadata": {
  "kernelspec": {
   "display_name": "Python 3 (ipykernel)",
   "language": "python",
   "name": "python3"
  },
  "language_info": {
   "codemirror_mode": {
    "name": "ipython",
    "version": 3
   },
   "file_extension": ".py",
   "mimetype": "text/x-python",
   "name": "python",
   "nbconvert_exporter": "python",
   "pygments_lexer": "ipython3",
   "version": "3.11.0"
  }
 },
 "nbformat": 4,
 "nbformat_minor": 5
}
