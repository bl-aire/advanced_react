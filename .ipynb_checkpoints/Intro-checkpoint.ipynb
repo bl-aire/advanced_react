{
 "cells": [
  {
   "cell_type": "markdown",
   "id": "c51b9728-4ea4-4e18-a639-a8749abe75cb",
   "metadata": {},
   "source": [
    "## Introduction\n",
    "\n",
    "The course is divided into:\n",
    "\n",
    "- Reusability : Helps make code maintainable and here we will discuss: **children prop, compound components, context, composition, render props and custom hooks**\n",
    "\n",
    "- React Router 6: Is a react library and at the time of recording this, its the latest version of the library. Helps us create SPA's with routing abilities. We will discuss: **routing basics, navigation, layout and index routes, nested routes, route and search parameters and protected routes**\n",
    "\n",
    "- Performance: We'd learn how react works bts and how to improve it. We will look at: **how react renders, using dev tools, code splitting useMemo(), memo() and useCallback()**\n",
    "\n",
    "Course requirements:\n",
    "\n",
    "- HTML\n",
    "- CSS\n",
    "- Vanilla JS\n",
    "- Basic React"
   ]
  },
  {
   "cell_type": "markdown",
   "id": "b075d001-eb8f-4f4a-80e1-1acaf4f484eb",
   "metadata": {},
   "source": [
    "## Props review challenge"
   ]
  },
  {
   "cell_type": "code",
   "execution_count": 5,
   "id": "553e57dc-c764-440f-982b-a3dec7035cb4",
   "metadata": {},
   "outputs": [
    {
     "data": {
      "application/javascript": [
       "\n",
       "function App() {\n",
       "  return (\n",
       "    <main>\n",
       "      <Button\n",
       "        text=\"NEW TEXT\"\n",
       "      />\n",
       "    </main>\n",
       "  )\n",
       "}\n",
       "\n",
       "export default function Button(props) {\n",
       "  return (\n",
       "    <main>\n",
       "      <button>{props.text}</button>\n",
       "    </main>\n",
       "  )\n",
       "}\n"
      ],
      "text/plain": [
       "<IPython.core.display.Javascript object>"
      ]
     },
     "metadata": {},
     "output_type": "display_data"
    }
   ],
   "source": [
    "%%javascript\n",
    "\n",
    "function App() {\n",
    "  return (\n",
    "    <main>\n",
    "      <Button\n",
    "        text=\"NEW TEXT\"\n",
    "      />\n",
    "    </main>\n",
    "  )\n",
    "}\n",
    "\n",
    "export default function Button(props) {\n",
    "  return (\n",
    "    <main>\n",
    "      <button>{props.text}</button>\n",
    "    </main>\n",
    "  )\n",
    "}"
   ]
  },
  {
   "cell_type": "markdown",
   "id": "7566d655-c472-4bb8-8cd3-7ad1c7ed6b96",
   "metadata": {},
   "source": [
    "## Children\n",
    "\n",
    "### - in HTML\n",
    "\n",
    "Parent and child relationships exist with HTML elements. E.g ul and li. \n",
    "\n",
    "### - in React\n",
    "\n",
    "We are able to use an opening and a closing tag for our custom component. And Whatever text is between(instead of using attributes to declare values) them is rendered using {props.children}"
   ]
  },
  {
   "cell_type": "code",
   "execution_count": null,
   "id": "0a8d3d07-097a-4125-a47d-821cdefa6e4a",
   "metadata": {},
   "outputs": [],
   "source": [
    "%%javascript\n",
    "\n",
    "function App() {\n",
    "  return (\n",
    "    <main>\n",
    "      <Marquee>🧛‍♀️ Welcome to Horrorville 🧛‍♀️</Marquee>\n",
    "    </main>\n",
    "  )\n",
    "}\n",
    "\n",
    "export default function Marquee(props) {\n",
    "    return (\n",
    "        <div className=\"marquee\">\n",
    "            <h1>{props.children}</h1>\n",
    "        </div>\n",
    "    )\n",
    "}"
   ]
  },
  {
   "cell_type": "markdown",
   "id": "37e9e181-2162-4634-83c2-7fe030bcfc12",
   "metadata": {},
   "source": [
    "### More on React children\n",
    "\n",
    "- Check out this <a href=\"https://react-icons.github.io/react-icons/\">React icon library</a>\n",
    "- Icons are svg's and can get targeted + styled via: **parentElement > svg**\n",
    "- React gives you the opportunity to nest components opening up a world of opportunities"
   ]
  },
  {
   "cell_type": "markdown",
   "id": "c472711b-1594-4782-820e-13003cd12656",
   "metadata": {},
   "source": [
    "## Props spreading\n",
    "\n",
    "Instead of enumerating each one of these props as is seen below, you can use the spead syntax and be able to use attributes of the element(button in this case) where the component(Button) is used directly:"
   ]
  },
  {
   "cell_type": "code",
   "execution_count": null,
   "id": "635e4531-6e63-4819-a56f-5b58bc419398",
   "metadata": {},
   "outputs": [],
   "source": [
    "%%javascript\n",
    "export default function Button(props) {\n",
    "    return (\n",
    "        <button \n",
    "            onClick={props.onClick}\n",
    "            onDoubleClick={props.onDoubleClick}\n",
    "            style={props.style}\n",
    "            className={props.className}\n",
    "            onMouseEnter={props.onMouseEnter}\n",
    "            onMouseLeave={props.onMouseLeave}\n",
    "        >\n",
    "            {/*... etc. ...*/}\n",
    "            {props.children}\n",
    "        </button>\n",
    "    )\n",
    "}\n",
    "\n",
    "\n",
    "export default function Button(props) {\n",
    "    return (\n",
    "        <button {...props}>\n",
    "            {props.children}\n",
    "        </button>\n",
    "    )\n",
    "}"
   ]
  }
 ],
 "metadata": {
  "kernelspec": {
   "display_name": "Python 3 (ipykernel)",
   "language": "python",
   "name": "python3"
  },
  "language_info": {
   "codemirror_mode": {
    "name": "ipython",
    "version": 3
   },
   "file_extension": ".py",
   "mimetype": "text/x-python",
   "name": "python",
   "nbconvert_exporter": "python",
   "pygments_lexer": "ipython3",
   "version": "3.10.10"
  }
 },
 "nbformat": 4,
 "nbformat_minor": 5
}
