{
 "cells": [
  {
   "cell_type": "markdown",
   "id": "c51b9728-4ea4-4e18-a639-a8749abe75cb",
   "metadata": {},
   "source": [
    "## Introduction\n",
    "\n",
    "The course is divided into:\n",
    "\n",
    "- Reusability : Helps make code maintainable and here we will discuss: **children prop, compound components, context, composition, render props and custom hooks**\n",
    "\n",
    "- React Router 6: Is a react library and at the time of recording this, its the latest version of the library. Helps us create SPA's with routing abilities. We will discuss: **routing basics, navigation, layout and index routes, nested routes, route and search parameters and protected routes**\n",
    "\n",
    "- Performance: We'd learn how react works bts and how to improve it. We will look at: **how react renders, using dev tools, code splitting useMemo(), memo() and useCallback()**\n",
    "\n",
    "Course requirements:\n",
    "\n",
    "- HTML\n",
    "- CSS\n",
    "- Vanilla JS\n",
    "- Basic React"
   ]
  },
  {
   "cell_type": "markdown",
   "id": "b075d001-eb8f-4f4a-80e1-1acaf4f484eb",
   "metadata": {},
   "source": [
    "## Props review challenge"
   ]
  },
  {
   "cell_type": "raw",
   "id": "8c5a76df-8525-42df-8146-dbfa6864083a",
   "metadata": {},
   "source": [
    "function App() {\n",
    "  return (\n",
    "    <main>\n",
    "      <Button\n",
    "        text=\"NEW TEXT\"\n",
    "      />\n",
    "    </main>\n",
    "  )\n",
    "}\n",
    "\n",
    "export default function Button(props) {\n",
    "  return (\n",
    "    <main>\n",
    "      <button>{props.text}</button>\n",
    "    </main>\n",
    "  )\n",
    "}"
   ]
  },
  {
   "cell_type": "markdown",
   "id": "7566d655-c472-4bb8-8cd3-7ad1c7ed6b96",
   "metadata": {},
   "source": [
    "## Children\n",
    "\n",
    "### - in HTML\n",
    "\n",
    "Parent and child relationships exist with HTML elements. E.g ul and li. \n",
    "\n",
    "### - in React\n",
    "\n",
    "We are able to use an opening and a closing tag for our custom component. And Whatever text is between(instead of using attributes to declare values) them is rendered using {props.children}"
   ]
  },
  {
   "cell_type": "raw",
   "id": "e9b1c698-7a63-4b4c-a0bd-edead05879b5",
   "metadata": {},
   "source": [
    "function App() {\n",
    "  return (\n",
    "    <main>\n",
    "      <Marquee>🧛‍♀️ Welcome to Horrorville 🧛‍♀️</Marquee>\n",
    "    </main>\n",
    "  )\n",
    "}\n",
    "\n",
    "export default function Marquee(props) {\n",
    "    return (\n",
    "        <div className=\"marquee\">\n",
    "            <h1>{props.children}</h1>\n",
    "        </div>\n",
    "    )\n",
    "}"
   ]
  },
  {
   "cell_type": "markdown",
   "id": "37e9e181-2162-4634-83c2-7fe030bcfc12",
   "metadata": {},
   "source": [
    "### More on React children\n",
    "\n",
    "- Check out this <a href=\"https://react-icons.github.io/react-icons/\">React icon library</a>\n",
    "- Icons are svg's and can get targeted + styled via: **parentElement > svg**\n",
    "- React gives you the opportunity to nest components opening up a world of opportunities"
   ]
  },
  {
   "cell_type": "markdown",
   "id": "c472711b-1594-4782-820e-13003cd12656",
   "metadata": {},
   "source": [
    "## Props spreading\n",
    "\n",
    "Instead of enumerating each one of these props as is seen below, you can use the spead syntax and be able to use attributes of the element(button in this case) where the component(Button) is used directly:"
   ]
  },
  {
   "cell_type": "raw",
   "id": "2157f2e2-5361-47e4-8ebd-8027b1371e12",
   "metadata": {},
   "source": [
    "export default function Button(props) {\n",
    "    return (\n",
    "        <button \n",
    "            onClick={props.onClick}\n",
    "            onDoubleClick={props.onDoubleClick}\n",
    "            style={props.style}\n",
    "            className={props.className}\n",
    "            onMouseEnter={props.onMouseEnter}\n",
    "            onMouseLeave={props.onMouseLeave}\n",
    "        >\n",
    "            {/*... etc. ...*/}\n",
    "            {props.children}\n",
    "        </button>\n",
    "    )\n",
    "}\n",
    "\n",
    "\n",
    "export default function Button(props) {\n",
    "    return (\n",
    "        <button {...props}>\n",
    "            {props.children}\n",
    "        </button>\n",
    "    )\n",
    "}"
   ]
  },
  {
   "cell_type": "markdown",
   "id": "2d770424-5bcd-4bf4-84b5-b4fbda04914f",
   "metadata": {},
   "source": [
    "## Destructuring props"
   ]
  },
  {
   "cell_type": "raw",
   "id": "0b4d1cc4-e228-4e51-93c6-3218e9e68bfc",
   "metadata": {},
   "source": [
    "function App() {\n",
    "  return (\n",
    "    <main>\n",
    "      <Button variant style={{color: \"green\"}} onClick={() => console.log(\"Logging in...\")}>\n",
    "        <FcGoogle />\n",
    "        Log in with Google\n",
    "      </Button>\n",
    "    </main>\n",
    "  )\n",
    "}\n",
    "\n",
    "export default function Button({children, variant, ...rest}) {\n",
    "    console.log(rest)\n",
    "    return (\n",
    "        <button>\n",
    "            {children}\n",
    "        </button>\n",
    "    )\n",
    "}\n",
    "\n",
    "- rest can be any name\n",
    "- rest won't contain children and variant cos those are already pulled out\n",
    "- variant will be true because a value was not set for it"
   ]
  }
 ],
 "metadata": {
  "kernelspec": {
   "display_name": "Python 3 (ipykernel)",
   "language": "python",
   "name": "python3"
  },
  "language_info": {
   "codemirror_mode": {
    "name": "ipython",
    "version": 3
   },
   "file_extension": ".py",
   "mimetype": "text/x-python",
   "name": "python",
   "nbconvert_exporter": "python",
   "pygments_lexer": "ipython3",
   "version": "3.10.10"
  }
 },
 "nbformat": 4,
 "nbformat_minor": 5
}
