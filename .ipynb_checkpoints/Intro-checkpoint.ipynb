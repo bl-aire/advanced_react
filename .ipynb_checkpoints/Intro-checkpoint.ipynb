{
 "cells": [
  {
   "cell_type": "markdown",
   "id": "f4aba807-b42f-48ba-806e-3a8c8ed3ba1c",
   "metadata": {},
   "source": [
    "## Introduction\n",
    "\n",
    "The course is divided into:\n",
    "\n",
    "- Reusability : Helps make code maintainable and here we will discuss: **children prop, compound components, context, composition, render props and custom hooks**\n",
    "\n",
    "- React Router 6: Is a react library and at the time of recording this, its the latest version of the library. Helps us create SPA's with routing abilities. We will discuss: **routing basics, navigation, layout and index routes, nested routes, route and search parameters and protected routes**\n",
    "\n",
    "- Performance: We'd learn how react works bts and how to improve it. We will look at: **how react renders, using dev tools, code splitting useMemo(), memo() and useCallback()**\n",
    "\n",
    "Course requirements:\n",
    "\n",
    "- HTML\n",
    "- CSS\n",
    "- Vanilla JS\n",
    "- Basic React"
   ]
  },
  {
   "cell_type": "code",
   "execution_count": null,
   "id": "7daa3407-fbd8-41ed-888b-2b9fa71b8d3d",
   "metadata": {},
   "outputs": [],
   "source": []
  }
 ],
 "metadata": {
  "kernelspec": {
   "display_name": "Python 3 (ipykernel)",
   "language": "python",
   "name": "python3"
  },
  "language_info": {
   "codemirror_mode": {
    "name": "ipython",
    "version": 3
   },
   "file_extension": ".py",
   "mimetype": "text/x-python",
   "name": "python",
   "nbconvert_exporter": "python",
   "pygments_lexer": "ipython3",
   "version": "3.10.10"
  }
 },
 "nbformat": 4,
 "nbformat_minor": 5
}
